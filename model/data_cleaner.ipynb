{
 "cells": [
  {
   "cell_type": "code",
   "execution_count": 1,
   "id": "4fe42d93-8b9b-4552-8264-31fc13e060af",
   "metadata": {},
   "outputs": [],
   "source": [
    "import numpy as np\n",
    "import pandas as pd"
   ]
  },
  {
   "cell_type": "code",
   "execution_count": 2,
   "id": "4413269e-9bf1-4f29-8c06-7cde1d8f3190",
   "metadata": {},
   "outputs": [],
   "source": [
    "np.random.seed(400)"
   ]
  },
  {
   "cell_type": "code",
   "execution_count": 3,
   "id": "907a849b-b636-412c-9156-a81f7cf22235",
   "metadata": {},
   "outputs": [],
   "source": [
    "rating_df = pd.read_csv('data/raw/rating_complete.csv')"
   ]
  },
  {
   "cell_type": "code",
   "execution_count": 4,
   "id": "d11ab995-522e-4210-a82a-34f6eff8466b",
   "metadata": {},
   "outputs": [],
   "source": [
    "anime_df = pd.read_csv('data/raw/anime.csv')"
   ]
  },
  {
   "cell_type": "code",
   "execution_count": 5,
   "id": "8b70889b-d502-4d4f-ab1b-a3e1a18fd354",
   "metadata": {},
   "outputs": [],
   "source": [
    "# remove duplicate rows in the dataframes\n",
    "rating_df.drop_duplicates(inplace=True)\n",
    "anime_df.drop_duplicates(subset='id', inplace=True)"
   ]
  },
  {
   "cell_type": "code",
   "execution_count": 6,
   "id": "95d1aaa6-3614-41a1-b6b9-7c9da6045db0",
   "metadata": {},
   "outputs": [],
   "source": [
    "rating_df.rename(columns={'rating' : 'score'}, inplace=True)"
   ]
  },
  {
   "cell_type": "code",
   "execution_count": 7,
   "id": "a24a812b-8870-497d-aee6-3cf8acb7dda4",
   "metadata": {},
   "outputs": [
    {
     "data": {
      "text/html": [
       "<div>\n",
       "<style scoped>\n",
       "    .dataframe tbody tr th:only-of-type {\n",
       "        vertical-align: middle;\n",
       "    }\n",
       "\n",
       "    .dataframe tbody tr th {\n",
       "        vertical-align: top;\n",
       "    }\n",
       "\n",
       "    .dataframe thead th {\n",
       "        text-align: right;\n",
       "    }\n",
       "</style>\n",
       "<table border=\"1\" class=\"dataframe\">\n",
       "  <thead>\n",
       "    <tr style=\"text-align: right;\">\n",
       "      <th></th>\n",
       "      <th>user_id</th>\n",
       "      <th>anime_id</th>\n",
       "      <th>score</th>\n",
       "    </tr>\n",
       "  </thead>\n",
       "  <tbody>\n",
       "    <tr>\n",
       "      <th>0</th>\n",
       "      <td>0</td>\n",
       "      <td>430</td>\n",
       "      <td>9</td>\n",
       "    </tr>\n",
       "    <tr>\n",
       "      <th>1</th>\n",
       "      <td>0</td>\n",
       "      <td>1004</td>\n",
       "      <td>5</td>\n",
       "    </tr>\n",
       "    <tr>\n",
       "      <th>2</th>\n",
       "      <td>0</td>\n",
       "      <td>3010</td>\n",
       "      <td>7</td>\n",
       "    </tr>\n",
       "    <tr>\n",
       "      <th>3</th>\n",
       "      <td>0</td>\n",
       "      <td>570</td>\n",
       "      <td>7</td>\n",
       "    </tr>\n",
       "    <tr>\n",
       "      <th>4</th>\n",
       "      <td>0</td>\n",
       "      <td>2762</td>\n",
       "      <td>9</td>\n",
       "    </tr>\n",
       "  </tbody>\n",
       "</table>\n",
       "</div>"
      ],
      "text/plain": [
       "   user_id  anime_id  score\n",
       "0        0       430      9\n",
       "1        0      1004      5\n",
       "2        0      3010      7\n",
       "3        0       570      7\n",
       "4        0      2762      9"
      ]
     },
     "execution_count": 7,
     "metadata": {},
     "output_type": "execute_result"
    }
   ],
   "source": [
    "rating_df.head()"
   ]
  },
  {
   "cell_type": "code",
   "execution_count": 8,
   "id": "30001111-6149-4d4e-93e3-871b45d77348",
   "metadata": {},
   "outputs": [
    {
     "data": {
      "text/html": [
       "<div>\n",
       "<style scoped>\n",
       "    .dataframe tbody tr th:only-of-type {\n",
       "        vertical-align: middle;\n",
       "    }\n",
       "\n",
       "    .dataframe tbody tr th {\n",
       "        vertical-align: top;\n",
       "    }\n",
       "\n",
       "    .dataframe thead th {\n",
       "        text-align: right;\n",
       "    }\n",
       "</style>\n",
       "<table border=\"1\" class=\"dataframe\">\n",
       "  <thead>\n",
       "    <tr style=\"text-align: right;\">\n",
       "      <th></th>\n",
       "      <th>id</th>\n",
       "      <th>title</th>\n",
       "      <th>media_type</th>\n",
       "      <th>mean</th>\n",
       "      <th>num_scoring_users</th>\n",
       "      <th>status</th>\n",
       "      <th>num_episodes</th>\n",
       "      <th>start_date</th>\n",
       "      <th>end_date</th>\n",
       "      <th>source</th>\n",
       "      <th>...</th>\n",
       "      <th>studios</th>\n",
       "      <th>synopsis</th>\n",
       "      <th>nsfw</th>\n",
       "      <th>created_at</th>\n",
       "      <th>updated_at</th>\n",
       "      <th>main_picture_medium</th>\n",
       "      <th>main_picture_large</th>\n",
       "      <th>alternative_titles_en</th>\n",
       "      <th>alternative_titles_ja</th>\n",
       "      <th>alternative_titles_synonyms</th>\n",
       "    </tr>\n",
       "  </thead>\n",
       "  <tbody>\n",
       "    <tr>\n",
       "      <th>0</th>\n",
       "      <td>5114</td>\n",
       "      <td>Fullmetal Alchemist: Brotherhood</td>\n",
       "      <td>tv</td>\n",
       "      <td>9.14</td>\n",
       "      <td>1848530</td>\n",
       "      <td>finished_airing</td>\n",
       "      <td>64.0</td>\n",
       "      <td>2009-04-05 00:00:00</td>\n",
       "      <td>2010-07-04 00:00:00</td>\n",
       "      <td>manga</td>\n",
       "      <td>...</td>\n",
       "      <td>['Bones']</td>\n",
       "      <td>After a horrific alchemy experiment goes wrong...</td>\n",
       "      <td>white</td>\n",
       "      <td>2008-08-21 03:35:22</td>\n",
       "      <td>2022-04-18 05:06:13</td>\n",
       "      <td>https://api-cdn.myanimelist.net/images/anime/1...</td>\n",
       "      <td>https://api-cdn.myanimelist.net/images/anime/1...</td>\n",
       "      <td>Fullmetal Alchemist: Brotherhood</td>\n",
       "      <td>鋼の錬金術師 FULLMETAL ALCHEMIST</td>\n",
       "      <td>['Hagane no Renkinjutsushi: Fullmetal Alchemis...</td>\n",
       "    </tr>\n",
       "    <tr>\n",
       "      <th>1</th>\n",
       "      <td>11061</td>\n",
       "      <td>Hunter x Hunter (2011)</td>\n",
       "      <td>tv</td>\n",
       "      <td>9.05</td>\n",
       "      <td>1491056</td>\n",
       "      <td>finished_airing</td>\n",
       "      <td>148.0</td>\n",
       "      <td>2011-10-02 00:00:00</td>\n",
       "      <td>2014-09-24 00:00:00</td>\n",
       "      <td>manga</td>\n",
       "      <td>...</td>\n",
       "      <td>['Madhouse', 'Studio Live']</td>\n",
       "      <td>Hunters devote themselves to accomplishing haz...</td>\n",
       "      <td>white</td>\n",
       "      <td>2011-07-27 08:41:39</td>\n",
       "      <td>2022-04-18 05:11:21</td>\n",
       "      <td>https://api-cdn.myanimelist.net/images/anime/1...</td>\n",
       "      <td>https://api-cdn.myanimelist.net/images/anime/1...</td>\n",
       "      <td>Hunter x Hunter</td>\n",
       "      <td>HUNTER×HUNTER（ハンター×ハンター）</td>\n",
       "      <td>['HxH (2011)']</td>\n",
       "    </tr>\n",
       "    <tr>\n",
       "      <th>2</th>\n",
       "      <td>9253</td>\n",
       "      <td>Steins;Gate</td>\n",
       "      <td>tv</td>\n",
       "      <td>9.08</td>\n",
       "      <td>1241454</td>\n",
       "      <td>finished_airing</td>\n",
       "      <td>24.0</td>\n",
       "      <td>2011-04-06 00:00:00</td>\n",
       "      <td>2011-09-14 00:00:00</td>\n",
       "      <td>visual_novel</td>\n",
       "      <td>...</td>\n",
       "      <td>['White Fox']</td>\n",
       "      <td>Eccentric scientist Rintarou Okabe has a never...</td>\n",
       "      <td>white</td>\n",
       "      <td>2010-07-26 09:23:40</td>\n",
       "      <td>2022-05-01 21:24:42</td>\n",
       "      <td>https://api-cdn.myanimelist.net/images/anime/5...</td>\n",
       "      <td>https://api-cdn.myanimelist.net/images/anime/5...</td>\n",
       "      <td>Steins;Gate</td>\n",
       "      <td>STEINS;GATE</td>\n",
       "      <td>[]</td>\n",
       "    </tr>\n",
       "    <tr>\n",
       "      <th>3</th>\n",
       "      <td>21</td>\n",
       "      <td>One Piece</td>\n",
       "      <td>tv</td>\n",
       "      <td>8.65</td>\n",
       "      <td>1079359</td>\n",
       "      <td>currently_airing</td>\n",
       "      <td>NaN</td>\n",
       "      <td>1999-10-20 00:00:00</td>\n",
       "      <td>NaN</td>\n",
       "      <td>manga</td>\n",
       "      <td>...</td>\n",
       "      <td>['Toei Animation']</td>\n",
       "      <td>Gol D. Roger was known as the \"Pirate King,\" t...</td>\n",
       "      <td>white</td>\n",
       "      <td>2005-11-11 01:20:50</td>\n",
       "      <td>2022-04-18 05:12:08</td>\n",
       "      <td>https://api-cdn.myanimelist.net/images/anime/6...</td>\n",
       "      <td>https://api-cdn.myanimelist.net/images/anime/6...</td>\n",
       "      <td>One Piece</td>\n",
       "      <td>ONE PIECE</td>\n",
       "      <td>['OP']</td>\n",
       "    </tr>\n",
       "    <tr>\n",
       "      <th>4</th>\n",
       "      <td>1535</td>\n",
       "      <td>Death Note</td>\n",
       "      <td>tv</td>\n",
       "      <td>8.62</td>\n",
       "      <td>2429917</td>\n",
       "      <td>finished_airing</td>\n",
       "      <td>37.0</td>\n",
       "      <td>2006-10-04 00:00:00</td>\n",
       "      <td>2007-06-27 00:00:00</td>\n",
       "      <td>manga</td>\n",
       "      <td>...</td>\n",
       "      <td>['Madhouse']</td>\n",
       "      <td>Brutal murders, petty thefts, and senseless vi...</td>\n",
       "      <td>white</td>\n",
       "      <td>2006-10-04 03:39:19</td>\n",
       "      <td>2022-04-18 04:59:29</td>\n",
       "      <td>https://api-cdn.myanimelist.net/images/anime/9...</td>\n",
       "      <td>https://api-cdn.myanimelist.net/images/anime/9...</td>\n",
       "      <td>Death Note</td>\n",
       "      <td>デスノート</td>\n",
       "      <td>['DN']</td>\n",
       "    </tr>\n",
       "  </tbody>\n",
       "</table>\n",
       "<p>5 rows × 31 columns</p>\n",
       "</div>"
      ],
      "text/plain": [
       "      id                             title media_type  mean  \\\n",
       "0   5114  Fullmetal Alchemist: Brotherhood         tv  9.14   \n",
       "1  11061            Hunter x Hunter (2011)         tv  9.05   \n",
       "2   9253                       Steins;Gate         tv  9.08   \n",
       "3     21                         One Piece         tv  8.65   \n",
       "4   1535                        Death Note         tv  8.62   \n",
       "\n",
       "   num_scoring_users            status  num_episodes           start_date  \\\n",
       "0            1848530   finished_airing          64.0  2009-04-05 00:00:00   \n",
       "1            1491056   finished_airing         148.0  2011-10-02 00:00:00   \n",
       "2            1241454   finished_airing          24.0  2011-04-06 00:00:00   \n",
       "3            1079359  currently_airing           NaN  1999-10-20 00:00:00   \n",
       "4            2429917   finished_airing          37.0  2006-10-04 00:00:00   \n",
       "\n",
       "              end_date        source  ...                      studios  \\\n",
       "0  2010-07-04 00:00:00         manga  ...                    ['Bones']   \n",
       "1  2014-09-24 00:00:00         manga  ...  ['Madhouse', 'Studio Live']   \n",
       "2  2011-09-14 00:00:00  visual_novel  ...                ['White Fox']   \n",
       "3                  NaN         manga  ...           ['Toei Animation']   \n",
       "4  2007-06-27 00:00:00         manga  ...                 ['Madhouse']   \n",
       "\n",
       "                                            synopsis   nsfw  \\\n",
       "0  After a horrific alchemy experiment goes wrong...  white   \n",
       "1  Hunters devote themselves to accomplishing haz...  white   \n",
       "2  Eccentric scientist Rintarou Okabe has a never...  white   \n",
       "3  Gol D. Roger was known as the \"Pirate King,\" t...  white   \n",
       "4  Brutal murders, petty thefts, and senseless vi...  white   \n",
       "\n",
       "            created_at           updated_at  \\\n",
       "0  2008-08-21 03:35:22  2022-04-18 05:06:13   \n",
       "1  2011-07-27 08:41:39  2022-04-18 05:11:21   \n",
       "2  2010-07-26 09:23:40  2022-05-01 21:24:42   \n",
       "3  2005-11-11 01:20:50  2022-04-18 05:12:08   \n",
       "4  2006-10-04 03:39:19  2022-04-18 04:59:29   \n",
       "\n",
       "                                 main_picture_medium  \\\n",
       "0  https://api-cdn.myanimelist.net/images/anime/1...   \n",
       "1  https://api-cdn.myanimelist.net/images/anime/1...   \n",
       "2  https://api-cdn.myanimelist.net/images/anime/5...   \n",
       "3  https://api-cdn.myanimelist.net/images/anime/6...   \n",
       "4  https://api-cdn.myanimelist.net/images/anime/9...   \n",
       "\n",
       "                                  main_picture_large  \\\n",
       "0  https://api-cdn.myanimelist.net/images/anime/1...   \n",
       "1  https://api-cdn.myanimelist.net/images/anime/1...   \n",
       "2  https://api-cdn.myanimelist.net/images/anime/5...   \n",
       "3  https://api-cdn.myanimelist.net/images/anime/6...   \n",
       "4  https://api-cdn.myanimelist.net/images/anime/9...   \n",
       "\n",
       "              alternative_titles_en       alternative_titles_ja  \\\n",
       "0  Fullmetal Alchemist: Brotherhood  鋼の錬金術師 FULLMETAL ALCHEMIST   \n",
       "1                   Hunter x Hunter    HUNTER×HUNTER（ハンター×ハンター）   \n",
       "2                       Steins;Gate                 STEINS;GATE   \n",
       "3                         One Piece                   ONE PIECE   \n",
       "4                        Death Note                       デスノート   \n",
       "\n",
       "                         alternative_titles_synonyms  \n",
       "0  ['Hagane no Renkinjutsushi: Fullmetal Alchemis...  \n",
       "1                                     ['HxH (2011)']  \n",
       "2                                                 []  \n",
       "3                                             ['OP']  \n",
       "4                                             ['DN']  \n",
       "\n",
       "[5 rows x 31 columns]"
      ]
     },
     "execution_count": 8,
     "metadata": {},
     "output_type": "execute_result"
    }
   ],
   "source": [
    "anime_df.head()"
   ]
  },
  {
   "cell_type": "code",
   "execution_count": 12,
   "id": "821e12e2-c602-4d9a-9c94-35364ba0131a",
   "metadata": {},
   "outputs": [],
   "source": [
    "# desired number of unique users and anime in dataset\n",
    "n_anime = 3000\n",
    "n_users = 6000\n",
    "\n",
    "# minimum number of ratings a user has to make\n",
    "min_n_rating = 35 "
   ]
  },
  {
   "cell_type": "code",
   "execution_count": 13,
   "id": "5b712572-8bbb-4594-a783-d8fc9b4385b0",
   "metadata": {},
   "outputs": [],
   "source": [
    "user_rating_cnt = rating_df.user_id.value_counts()"
   ]
  },
  {
   "cell_type": "code",
   "execution_count": 14,
   "id": "b2c940da-5187-4c4e-89fb-d680fe3a8fe4",
   "metadata": {},
   "outputs": [],
   "source": [
    "# keep users with at least <min_n_rating> ratings\n",
    "users_keep = user_rating_cnt[user_rating_cnt >= min_n_rating].index.tolist()"
   ]
  },
  {
   "cell_type": "code",
   "execution_count": 15,
   "id": "2a8859cd-c1e9-411a-aea3-d87839def37e",
   "metadata": {},
   "outputs": [
    {
     "data": {
      "text/plain": [
       "35"
      ]
     },
     "execution_count": 15,
     "metadata": {},
     "output_type": "execute_result"
    }
   ],
   "source": [
    "user_rating_cnt[users_keep[-1]]"
   ]
  },
  {
   "cell_type": "code",
   "execution_count": 16,
   "id": "93527add-a24e-4995-b06a-49c990671a77",
   "metadata": {},
   "outputs": [],
   "source": [
    "# choose <n_user> random users to remain in dataset\n",
    "users_keep = np.random.choice(users_keep, n_users, replace=False)"
   ]
  },
  {
   "cell_type": "code",
   "execution_count": 17,
   "id": "3b7c9d08-86be-4351-8796-e43e4012e10d",
   "metadata": {},
   "outputs": [
    {
     "data": {
      "text/plain": [
       "6000"
      ]
     },
     "execution_count": 17,
     "metadata": {},
     "output_type": "execute_result"
    }
   ],
   "source": [
    "len(users_keep)"
   ]
  },
  {
   "cell_type": "code",
   "execution_count": 18,
   "id": "c4f5756e-07c5-44f9-8f23-482d0cb6aac1",
   "metadata": {},
   "outputs": [],
   "source": [
    "# best_users = rating_df['user_id'].value_counts().index.tolist()[:max_n_users]"
   ]
  },
  {
   "cell_type": "code",
   "execution_count": 19,
   "id": "99edb1bb-e19c-4c46-842f-13822133ec3c",
   "metadata": {},
   "outputs": [],
   "source": [
    "rating_df = rating_df[rating_df['user_id'].isin(users_keep)]"
   ]
  },
  {
   "cell_type": "code",
   "execution_count": 20,
   "id": "993c99a1-57fb-4e98-9142-7dd80d4001ea",
   "metadata": {},
   "outputs": [
    {
     "data": {
      "text/plain": [
       "1377039"
      ]
     },
     "execution_count": 20,
     "metadata": {},
     "output_type": "execute_result"
    }
   ],
   "source": [
    "len(rating_df)"
   ]
  },
  {
   "cell_type": "code",
   "execution_count": 21,
   "id": "b4da0b28-6223-4d19-b4fc-1c5ddf07bde6",
   "metadata": {},
   "outputs": [],
   "source": [
    "animes_with_rating = rating_df.anime_id.unique()"
   ]
  },
  {
   "cell_type": "code",
   "execution_count": 22,
   "id": "62cbaf4b-7740-4b3a-b9b4-9342560ded26",
   "metadata": {
    "tags": []
   },
   "outputs": [],
   "source": [
    "anime_to_pop = {}\n",
    "for anime_id in animes_with_rating:\n",
    "    popularity = anime_df[anime_df.id == anime_id].popularity\n",
    "    \n",
    "    if len(popularity) == 1:\n",
    "        popularity = popularity.item()\n",
    "        anime_to_pop[anime_id] = popularity"
   ]
  },
  {
   "cell_type": "code",
   "execution_count": 23,
   "id": "d298738a-668c-4f19-9879-0d1e62dfaa57",
   "metadata": {},
   "outputs": [],
   "source": [
    "# get the ids of the <n_anime> most popularity anime \n",
    "anime_keep = sorted(anime_to_pop.keys(), key=lambda x : anime_to_pop[x])[:n_anime]"
   ]
  },
  {
   "cell_type": "code",
   "execution_count": 24,
   "id": "99e5a1d9-1ba2-4eb5-9e1a-18fd6dad12c9",
   "metadata": {},
   "outputs": [
    {
     "data": {
      "text/plain": [
       "3000"
      ]
     },
     "execution_count": 24,
     "metadata": {},
     "output_type": "execute_result"
    }
   ],
   "source": [
    "len(anime_keep)"
   ]
  },
  {
   "cell_type": "code",
   "execution_count": 25,
   "id": "512a34eb-f4c9-491f-b096-40e208cff274",
   "metadata": {},
   "outputs": [],
   "source": [
    "# remove reviews for unpopular anime\n",
    "rating_df = rating_df[rating_df['anime_id'].isin(anime_keep)]"
   ]
  },
  {
   "cell_type": "code",
   "execution_count": 26,
   "id": "91a28d35-2d8f-4456-accc-2304979398b1",
   "metadata": {},
   "outputs": [],
   "source": [
    "# review unpopular anime from anime dataset as well\n",
    "anime_df = anime_df[anime_df.id.isin(anime_keep)]"
   ]
  },
  {
   "cell_type": "code",
   "execution_count": 27,
   "id": "99df5af1-10e1-4ce0-bc86-a167c77d7010",
   "metadata": {},
   "outputs": [
    {
     "data": {
      "text/plain": [
       "3000"
      ]
     },
     "execution_count": 27,
     "metadata": {},
     "output_type": "execute_result"
    }
   ],
   "source": [
    "len(anime_df)"
   ]
  },
  {
   "cell_type": "code",
   "execution_count": 21,
   "id": "adac8f73-fb0b-4d53-a329-28fc56ab3ee7",
   "metadata": {},
   "outputs": [
    {
     "data": {
      "text/plain": [
       "6000"
      ]
     },
     "execution_count": 21,
     "metadata": {},
     "output_type": "execute_result"
    }
   ],
   "source": []
  },
  {
   "cell_type": "code",
   "execution_count": 28,
   "id": "4a80071b-02c2-493a-9ec7-ab90e3a08af9",
   "metadata": {},
   "outputs": [
    {
     "data": {
      "text/plain": [
       "<AxesSubplot:ylabel='Frequency'>"
      ]
     },
     "execution_count": 28,
     "metadata": {},
     "output_type": "execute_result"
    },
    {
     "data": {
      "image/png": "[encoded data removed]",
      "text/plain": [
       "<Figure size 432x288 with 1 Axes>"
      ]
     },
     "metadata": {
      "needs_background": "light"
     },
     "output_type": "display_data"
    }
   ],
   "source": [
    "rating_df['user_id'].value_counts().plot.hist(bins=100)"
   ]
  },
  {
   "cell_type": "code",
   "execution_count": 30,
   "id": "30325e50-f1da-4817-a19e-a80c5b4aef67",
   "metadata": {},
   "outputs": [
    {
     "name": "stdout",
     "output_type": "stream",
     "text": [
      "n_anime: 3000, n_users: 6000, n_rating: 1207781, sparcity: 0.9329010555555556\n"
     ]
    }
   ],
   "source": [
    "# calculate sparcity of interaction matrix\n",
    "n_anime = len(rating_df.anime_id.unique())\n",
    "n_rating = len(rating_df)\n",
    "n_users = len(rating_df.user_id.unique())\n",
    "sparcity = 1 - (n_rating / (n_anime * n_users))\n",
    "\n",
    "print(f'n_anime: {n_anime}, n_users: {n_users}, n_rating: {n_rating}, sparcity: {sparcity}')"
   ]
  },
  {
   "cell_type": "code",
   "execution_count": 32,
   "id": "6e808c0a-2eca-4f5a-92ba-772fd59a45a9",
   "metadata": {},
   "outputs": [],
   "source": [
    "# test_df = rating_df.copy(deep=True)"
   ]
  },
  {
   "cell_type": "code",
   "execution_count": 32,
   "id": "06605498-850e-480c-b497-7b2e6deea993",
   "metadata": {},
   "outputs": [],
   "source": [
    "# reindex all the users so that ids run from 0 to <n_users> - 1\n",
    "user_to_idx = {}\n",
    "\n",
    "for idx, user_id in enumerate(users_keep):\n",
    "    user_to_idx[user_id] = idx\n",
    "\n",
    "rating_df['user_id'] = rating_df['user_id'].apply(lambda x:user_to_idx[x])"
   ]
  },
  {
   "cell_type": "code",
   "execution_count": 33,
   "id": "8b77a122-659d-4339-b0a4-fdab97c82729",
   "metadata": {},
   "outputs": [],
   "source": [
    "# index all anime so that ids run from 0 to <n_anime> - 1\n",
    "anime_to_idx = {}\n",
    "\n",
    "for idx, anime_id in enumerate(anime_keep):\n",
    "    anime_to_idx[anime_id] = idx\n",
    "\n",
    "rating_df['anime_id'] = rating_df['anime_id'].apply(lambda x:anime_to_idx[x])\n",
    "anime_df['idx'] = anime_df['id'].apply(lambda x : anime_to_idx[x])"
   ]
  },
  {
   "cell_type": "code",
   "execution_count": 34,
   "id": "168295ce-86b9-477c-a623-52e24d869f30",
   "metadata": {},
   "outputs": [
    {
     "data": {
      "text/html": [
       "<div>\n",
       "<style scoped>\n",
       "    .dataframe tbody tr th:only-of-type {\n",
       "        vertical-align: middle;\n",
       "    }\n",
       "\n",
       "    .dataframe tbody tr th {\n",
       "        vertical-align: top;\n",
       "    }\n",
       "\n",
       "    .dataframe thead th {\n",
       "        text-align: right;\n",
       "    }\n",
       "</style>\n",
       "<table border=\"1\" class=\"dataframe\">\n",
       "  <thead>\n",
       "    <tr style=\"text-align: right;\">\n",
       "      <th></th>\n",
       "      <th>user_id</th>\n",
       "      <th>anime_id</th>\n",
       "      <th>score</th>\n",
       "    </tr>\n",
       "  </thead>\n",
       "  <tbody>\n",
       "    <tr>\n",
       "      <th>3704</th>\n",
       "      <td>690</td>\n",
       "      <td>2999</td>\n",
       "      <td>7</td>\n",
       "    </tr>\n",
       "    <tr>\n",
       "      <th>3706</th>\n",
       "      <td>690</td>\n",
       "      <td>1946</td>\n",
       "      <td>7</td>\n",
       "    </tr>\n",
       "    <tr>\n",
       "      <th>3707</th>\n",
       "      <td>690</td>\n",
       "      <td>1037</td>\n",
       "      <td>7</td>\n",
       "    </tr>\n",
       "    <tr>\n",
       "      <th>3708</th>\n",
       "      <td>690</td>\n",
       "      <td>760</td>\n",
       "      <td>8</td>\n",
       "    </tr>\n",
       "    <tr>\n",
       "      <th>3709</th>\n",
       "      <td>690</td>\n",
       "      <td>949</td>\n",
       "      <td>9</td>\n",
       "    </tr>\n",
       "    <tr>\n",
       "      <th>...</th>\n",
       "      <td>...</td>\n",
       "      <td>...</td>\n",
       "      <td>...</td>\n",
       "    </tr>\n",
       "    <tr>\n",
       "      <th>57618674</th>\n",
       "      <td>5897</td>\n",
       "      <td>503</td>\n",
       "      <td>9</td>\n",
       "    </tr>\n",
       "    <tr>\n",
       "      <th>57618675</th>\n",
       "      <td>5897</td>\n",
       "      <td>26</td>\n",
       "      <td>8</td>\n",
       "    </tr>\n",
       "    <tr>\n",
       "      <th>57618676</th>\n",
       "      <td>5897</td>\n",
       "      <td>1224</td>\n",
       "      <td>8</td>\n",
       "    </tr>\n",
       "    <tr>\n",
       "      <th>57618677</th>\n",
       "      <td>5897</td>\n",
       "      <td>261</td>\n",
       "      <td>9</td>\n",
       "    </tr>\n",
       "    <tr>\n",
       "      <th>57618678</th>\n",
       "      <td>5897</td>\n",
       "      <td>131</td>\n",
       "      <td>9</td>\n",
       "    </tr>\n",
       "  </tbody>\n",
       "</table>\n",
       "<p>1207781 rows × 3 columns</p>\n",
       "</div>"
      ],
      "text/plain": [
       "          user_id  anime_id  score\n",
       "3704          690      2999      7\n",
       "3706          690      1946      7\n",
       "3707          690      1037      7\n",
       "3708          690       760      8\n",
       "3709          690       949      9\n",
       "...           ...       ...    ...\n",
       "57618674     5897       503      9\n",
       "57618675     5897        26      8\n",
       "57618676     5897      1224      8\n",
       "57618677     5897       261      9\n",
       "57618678     5897       131      9\n",
       "\n",
       "[1207781 rows x 3 columns]"
      ]
     },
     "execution_count": 34,
     "metadata": {},
     "output_type": "execute_result"
    }
   ],
   "source": [
    "rating_df"
   ]
  },
  {
   "cell_type": "code",
   "execution_count": 38,
   "id": "457a3032-2f1d-4309-8ac3-c27be1b0de92",
   "metadata": {},
   "outputs": [
    {
     "data": {
      "text/plain": [
       "2999"
      ]
     },
     "execution_count": 38,
     "metadata": {},
     "output_type": "execute_result"
    }
   ],
   "source": [
    "max(rating_df['anime_id'].unique())"
   ]
  },
  {
   "cell_type": "code",
   "execution_count": 42,
   "id": "62870fe3-8d65-4616-b130-572ad453adc8",
   "metadata": {},
   "outputs": [
    {
     "data": {
      "text/plain": [
       "2977"
      ]
     },
     "execution_count": 42,
     "metadata": {},
     "output_type": "execute_result"
    }
   ],
   "source": [
    "len(rating_df.anime_id.unique())"
   ]
  },
  {
   "cell_type": "code",
   "execution_count": 31,
   "id": "dc16df4c-2719-406f-90aa-f30dce1eecba",
   "metadata": {},
   "outputs": [
    {
     "data": {
      "text/plain": [
       "308285    1914\n",
       "31547     1734\n",
       "82737     1650\n",
       "23184     1570\n",
       "117915    1537\n",
       "          ... \n",
       "350399      23\n",
       "316292      12\n",
       "159496       6\n",
       "49372        4\n",
       "323577       3\n",
       "Name: user_id, Length: 6000, dtype: int64"
      ]
     },
     "execution_count": 31,
     "metadata": {},
     "output_type": "execute_result"
    }
   ],
   "source": [
    "rating_df.user_id.value_counts()"
   ]
  },
  {
   "cell_type": "code",
   "execution_count": 35,
   "id": "52326614-3777-4c48-9ec3-b1b71d769b91",
   "metadata": {},
   "outputs": [],
   "source": [
    "# export the cleaned dataframes\n",
    "rating_df.to_csv('data/processed/ratings.csv', index=False)"
   ]
  },
  {
   "cell_type": "code",
   "execution_count": 36,
   "id": "3b435792-4eaf-4f27-9bc3-62d5f0554fcd",
   "metadata": {},
   "outputs": [],
   "source": [
    "anime_df.to_csv('data/processed/animes.csv', index=False)"
   ]
  },
  {
   "cell_type": "code",
   "execution_count": null,
   "id": "8177c85e-6dc6-40e8-8550-66470be101ae",
   "metadata": {},
   "outputs": [],
   "source": []
  }
 ],
 "metadata": {
  "kernelspec": {
   "display_name": "Python 3 (ipykernel)",
   "language": "python",
   "name": "python3"
  },
  "language_info": {
   "codemirror_mode": {
    "name": "ipython",
    "version": 3
   },
   "file_extension": ".py",
   "mimetype": "text/x-python",
   "name": "python",
   "nbconvert_exporter": "python",
   "pygments_lexer": "ipython3",
   "version": "3.10.4"
  }
 },
 "nbformat": 4,
 "nbformat_minor": 5
}
