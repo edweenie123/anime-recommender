{
 "cells": [
  {
   "cell_type": "code",
   "execution_count": 16,
   "id": "919f20d9-f91f-44d6-9abc-b8efb59f263a",
   "metadata": {},
   "outputs": [],
   "source": [
    "import torch\n",
    "import numpy as np\n",
    "import pandas as pd\n",
    "from encoder import Encoder\n",
    "from animedata import AnimeRatings, AnimeRatingMatrix, MALAnime"
   ]
  },
  {
   "cell_type": "code",
   "execution_count": 5,
   "id": "31b3648d-03a3-4156-8e7a-d3243b49ea45",
   "metadata": {},
   "outputs": [],
   "source": [
    "ratings = AnimeRatings()"
   ]
  },
  {
   "cell_type": "code",
   "execution_count": 6,
   "id": "43fc88e7-bea5-446e-9f73-28900bf1fe7f",
   "metadata": {},
   "outputs": [],
   "source": [
    "net = Encoder(ratings.n_anime, 500)"
   ]
  },
  {
   "cell_type": "code",
   "execution_count": 9,
   "id": "b05e98f7-65ae-49a2-8982-469dc462bd66",
   "metadata": {},
   "outputs": [
    {
     "data": {
      "text/plain": [
       "<All keys matched successfully>"
      ]
     },
     "execution_count": 9,
     "metadata": {},
     "output_type": "execute_result"
    }
   ],
   "source": [
    "net.load_state_dict(torch.load('./model_save.pth', map_location=torch.device('cpu')))"
   ]
  },
  {
   "cell_type": "code",
   "execution_count": 10,
   "id": "c96283c8-d655-403a-b485-96cd373f453b",
   "metadata": {},
   "outputs": [
    {
     "data": {
      "text/plain": [
       "Encoder(\n",
       "  (encoder): Sequential(\n",
       "    (0): Linear(in_features=3000, out_features=500, bias=True)\n",
       "    (1): Sigmoid()\n",
       "    (2): Dropout(p=0.5, inplace=False)\n",
       "  )\n",
       "  (decoder): Linear(in_features=500, out_features=3000, bias=True)\n",
       ")"
      ]
     },
     "execution_count": 10,
     "metadata": {},
     "output_type": "execute_result"
    }
   ],
   "source": [
    "net.eval()"
   ]
  },
  {
   "cell_type": "code",
   "execution_count": 15,
   "id": "37e43b50-5dfc-4957-98a9-9b823a90d9ee",
   "metadata": {},
   "outputs": [],
   "source": [
    "entire_matrix = AnimeRatingMatrix(ratings.df, ratings.n_users, ratings.n_anime)"
   ]
  },
  {
   "cell_type": "code",
   "execution_count": 14,
   "id": "ac91d1e0-7384-4f90-bfa8-282d1113d951",
   "metadata": {},
   "outputs": [
    {
     "ename": "NameError",
     "evalue": "name 'anime_id' is not defined",
     "output_type": "error",
     "traceback": [
      "\u001b[0;31m---------------------------------------------------------------------------\u001b[0m",
      "\u001b[0;31mNameError\u001b[0m                                 Traceback (most recent call last)",
      "Input \u001b[0;32mIn [14]\u001b[0m, in \u001b[0;36m<cell line: 1>\u001b[0;34m()\u001b[0m\n\u001b[0;32m----> 1\u001b[0m ratings\u001b[38;5;241m.\u001b[39mdf[\u001b[43manime_id\u001b[49m]\n",
      "\u001b[0;31mNameError\u001b[0m: name 'anime_id' is not defined"
     ]
    }
   ],
   "source": [
    "ratings.df[]"
   ]
  },
  {
   "cell_type": "code",
   "execution_count": 18,
   "id": "08544e90-e061-438b-bb78-6247ead7d30a",
   "metadata": {},
   "outputs": [],
   "source": [
    "all_anime = pd.read_csv('./data/processed/animes.csv') "
   ]
  },
  {
   "cell_type": "code",
   "execution_count": 27,
   "id": "defa3e93-8e51-48b1-bab1-89b5c70ea09b",
   "metadata": {},
   "outputs": [],
   "source": [
    "all_anime.sort_values(by='idx', inplace=True)"
   ]
  },
  {
   "cell_type": "code",
   "execution_count": 33,
   "id": "9e6e8ea9-13ae-40f6-89d3-1b14d91a7301",
   "metadata": {},
   "outputs": [],
   "source": [
    "def make_recommendations(anime_tensor, k):\n",
    "    inp = anime_tensor\n",
    "    pred = net(inp)\n",
    "    \n",
    "    pred[inp != 0] = 0\n",
    "    \n",
    "    values, indices = torch.sort(pred, descending=True)\n",
    "    \n",
    "    return indices[:k]"
   ]
  },
  {
   "cell_type": "code",
   "execution_count": 44,
   "id": "85ad7052-2f87-4423-9668-f63ab7b73a31",
   "metadata": {},
   "outputs": [],
   "source": [
    "def anime_id_to_title(anime_ids):\n",
    "    # for x in anime_ids:\n",
    "    #     print(x.item())\n",
    "    #     break\n",
    "    # print(all_anime.iloc[1541])\n",
    "    anime_titles = [all_anime.iloc[x.item()].title for x in anime_ids]\n",
    "    return anime_titles"
   ]
  },
  {
   "cell_type": "code",
   "execution_count": 50,
   "id": "b8883bcc-47f9-442b-bbdc-83c68f844dab",
   "metadata": {},
   "outputs": [
    {
     "name": "stdout",
     "output_type": "stream",
     "text": [
      "['Gintama: The Final']\n",
      "['Gintama: The Final']\n",
      "['Gintama: The Final']\n",
      "['Gintama: The Final']\n",
      "['Gintama: The Final']\n",
      "['Gintama: The Final']\n",
      "['Gintama: The Final']\n",
      "['Gintama: The Final']\n",
      "['Gintama: The Final']\n",
      "['Ashita no Joe 2']\n",
      "['Gintama: The Final']\n",
      "['Gintama: The Final']\n",
      "['Gintama: The Final']\n",
      "['Gintama: The Final']\n",
      "['Gintama: The Final']\n",
      "['Gintama: The Final']\n",
      "['Gintama: The Final']\n",
      "['Gintama: The Final']\n",
      "['Gintama: The Final']\n",
      "['Gintama: The Final']\n",
      "['Gintama: The Final']\n",
      "['Gintama: The Final']\n",
      "['Gintama: The Final']\n",
      "['Gintama: The Final']\n",
      "['Gintama: The Final']\n",
      "['Gintama: The Final']\n",
      "['Gintama: The Final']\n",
      "['Gintama: The Final']\n",
      "['Gintama: The Final']\n",
      "['Gintama: The Final']\n",
      "['Gintama: The Final']\n",
      "['Ginga Eiyuu Densetsu']\n",
      "['Gintama: The Final']\n",
      "['Gintama: The Final']\n",
      "['Gintama: The Final']\n",
      "['Gintama: The Final']\n",
      "['Gintama: The Final']\n",
      "['Gintama: The Final']\n",
      "['Gintama: The Final']\n",
      "['Gintama: The Final']\n",
      "['Gintama: The Final']\n",
      "['Gintama: The Final']\n",
      "['Gintama: The Final']\n",
      "['Gintama: The Final']\n",
      "['Gintama: The Final']\n",
      "['Gintama: The Final']\n",
      "['Gintama: The Final']\n",
      "['Gintama: The Final']\n",
      "['Gintama: The Final']\n",
      "['Ashita no Joe 2']\n"
     ]
    }
   ],
   "source": [
    "for i in range(50):\n",
    "    bois = make_recommendations(entire_matrix[i], 1)\n",
    "    print(anime_id_to_title(bois))"
   ]
  },
  {
   "cell_type": "code",
   "execution_count": null,
   "id": "812cb138-f261-419a-90ea-541bd503976f",
   "metadata": {},
   "outputs": [],
   "source": []
  }
 ],
 "metadata": {
  "kernelspec": {
   "display_name": "Python 3 (ipykernel)",
   "language": "python",
   "name": "python3"
  },
  "language_info": {
   "codemirror_mode": {
    "name": "ipython",
    "version": 3
   },
   "file_extension": ".py",
   "mimetype": "text/x-python",
   "name": "python",
   "nbconvert_exporter": "python",
   "pygments_lexer": "ipython3",
   "version": "3.8.13"
  }
 },
 "nbformat": 4,
 "nbformat_minor": 5
}
